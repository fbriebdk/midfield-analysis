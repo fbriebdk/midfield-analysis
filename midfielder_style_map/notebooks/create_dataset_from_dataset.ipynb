{
 "cells": [
  {
   "cell_type": "code",
   "execution_count": 3,
   "id": "3b030d3e",
   "metadata": {},
   "outputs": [
    {
     "name": "stdout",
     "output_type": "stream",
     "text": [
      "    Rk          Player   Nation Pos        Squad  Age  Born  MP  Starts   Min  \\\n",
      "0   45    Ross Barkley  eng ENG  MF   Luton Town   29  1993  32      30  2618   \n",
      "1   58    Sander Berge   no NOR  MF      Burnley   25  1998  37      34  3005   \n",
      "2   87  Moisés Caicedo   ec ECU  MF      Chelsea   21  2001  35      33  2866   \n",
      "3  105   Ryan Christie  sct SCO  MF  Bournemouth   28  1995  37      35  2907   \n",
      "4  113      Lewis Cook  eng ENG  MF  Bournemouth   26  1997  33      32  2786   \n",
      "\n",
      "   ...  Ast.1  G+A.1  G-PK.1  G+A-PK  xG.1  xAG.1  xG+xAG  npxG.1  npxG+xAG.1  \\\n",
      "0  ...   0.14   0.31    0.17    0.31  0.14   0.13    0.27    0.14        0.27   \n",
      "1  ...   0.06   0.09    0.03    0.09  0.06   0.07    0.13    0.06        0.13   \n",
      "2  ...   0.09   0.13    0.03    0.13  0.01   0.08    0.09    0.01        0.09   \n",
      "3  ...   0.15   0.15    0.00    0.15  0.07   0.17    0.24    0.07        0.24   \n",
      "4  ...   0.10   0.10    0.00    0.10  0.01   0.14    0.15    0.01        0.15   \n",
      "\n",
      "   Matches  \n",
      "0  Matches  \n",
      "1  Matches  \n",
      "2  Matches  \n",
      "3  Matches  \n",
      "4  Matches  \n",
      "\n",
      "[5 rows x 37 columns]\n"
     ]
    }
   ],
   "source": [
    "import pandas as pd\n",
    "\n",
    "#Load your full per-90 dataset\n",
    "df = pd.read_csv(\"../../midfielder_style_map/data/premier_league_per90_2023_2024.csv\")\n",
    "\n",
    "#Define the 35 midfielders you care about\n",
    "midfielders = [\n",
    "    \"Declan Rice\", \"Rodri\", \"Kevin De Bruyne\", \"Bruno Fernandes\",\n",
    "    \"Martin Ødegaard\", \"Enzo Fernández\", \"James Maddison\",\n",
    "    \"Pascal Groß\", \"Alexis Mac Allister\", \"João Palhinha\",\n",
    "    \"Kobbie Mainoo\", \"Douglas Luiz\", \"Conor Gallagher\",\n",
    "    \"Bruno Guimarães\", \"Tyrick Mitchell\", \"Morgan Gibbs-White\",\n",
    "    \"Phil Foden\", \"Lewis Cook\", \"Dejan Kulusevski\",\n",
    "    \"Sean Longstaff\", \"Kai Havertz\", \"Abdoulaye Doucouré\",\n",
    "    \"Ross Barkley\", \"Moisés Caicedo\", \"Ryan Christie\",\n",
    "    \"Dwight McNeil\", \"Tomáš Souček\", \"Sander Berge\",\n",
    "    \"Moisés Caicedo\", \"James Ward-Prowse\", \"John McGinn\",\n",
    "    \"Mario Lemina\", \"Gustavo Hamer\", \"James Garner\"\n",
    "]\n",
    "\n",
    "#Filter\n",
    "standard_stats = df[df[\"Player\"].isin(midfielders)].copy()\n",
    "\n",
    "#Reset index\n",
    "standard_stats.reset_index(drop=True, inplace=True)\n",
    "\n",
    "#Save to CSV\n",
    "standard_stats.to_csv(\"../../midfielder_style_map/data/standard_stats_selected_players.csv\", index=False)\n",
    "\n",
    "#Inspect\n",
    "print(standard_stats.head())\n"
   ]
  }
 ],
 "metadata": {
  "kernelspec": {
   "display_name": "Python (aci)",
   "language": "python",
   "name": "aci"
  },
  "language_info": {
   "codemirror_mode": {
    "name": "ipython",
    "version": 3
   },
   "file_extension": ".py",
   "mimetype": "text/x-python",
   "name": "python",
   "nbconvert_exporter": "python",
   "pygments_lexer": "ipython3",
   "version": "3.11.5"
  }
 },
 "nbformat": 4,
 "nbformat_minor": 5
}
