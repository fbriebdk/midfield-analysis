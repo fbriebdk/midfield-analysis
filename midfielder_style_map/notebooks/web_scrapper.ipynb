{
 "cells": [
  {
   "cell_type": "code",
   "execution_count": 3,
   "id": "3c57c67f",
   "metadata": {},
   "outputs": [
    {
     "name": "stdout",
     "output_type": "stream",
     "text": [
      "✅ CSV saved as 'premier_league_per90_2023_2024.csv'\n"
     ]
    }
   ],
   "source": [
    "import requests\n",
    "import pandas as pd\n",
    "from bs4 import BeautifulSoup, Comment\n",
    "\n",
    "# URL and headers\n",
    "url = \"https://fbref.com/en/comps/9/2023-2024/stats/2023-2024-Premier-League-Stats\"\n",
    "headers = {\"User-Agent\": \"Mozilla/5.0\"}\n",
    "\n",
    "# Get page\n",
    "response = requests.get(url, headers=headers)\n",
    "soup = BeautifulSoup(response.content, \"html.parser\")\n",
    "\n",
    "# Extract commented HTML tables\n",
    "comments = soup.find_all(string=lambda text: isinstance(text, Comment))\n",
    "for comment in comments:\n",
    "    if \"stats_standard\" in comment:\n",
    "        table_soup = BeautifulSoup(comment, \"html.parser\")\n",
    "        break\n",
    "\n",
    "# Read the actual table\n",
    "table = table_soup.find(\"table\", {\"id\": \"stats_standard\"})\n",
    "df = pd.read_html(str(table))[0]\n",
    "\n",
    "# Flatten MultiIndex columns if present\n",
    "if isinstance(df.columns, pd.MultiIndex):\n",
    "    df.columns = [' '.join(col).strip() for col in df.columns.values]\n",
    "\n",
    "# Drop any repeated header rows\n",
    "df = df[df[df.columns[0]] != df.columns[0]]\n",
    "\n",
    "# Reset index\n",
    "df.reset_index(drop=True, inplace=True)\n",
    "\n",
    "# Save to CSV\n",
    "df.to_csv(\"premier_league_per90_2023_2024.csv\", index=False)\n",
    "\n",
    "print(\"✅ CSV saved as 'premier_league_per90_2023_2024.csv'\")\n"
   ]
  },
  {
   "cell_type": "code",
   "execution_count": 10,
   "id": "c84bc819",
   "metadata": {},
   "outputs": [
    {
     "name": "stdout",
     "output_type": "stream",
     "text": [
      "Written defensive_stats_selected_players.csv with 35 rows\n"
     ]
    }
   ],
   "source": [
    "import requests\n",
    "import pandas as pd\n",
    "from bs4 import BeautifulSoup, Comment\n",
    "\n",
    "# List of target midfielders\n",
    "target_players = [\n",
    "    \"Bruno Guimarães\", \"Declan Rice\", \"Tyrick Mitchell\", \"Morgan Gibbs-White\", \"Conor Gallagher\",\n",
    "    \"Bruno Fernandes\", \"Pascal Groß\", \"Martin Ødegaard\", \"Nélson Semedo\", \"Vitaly Janelt\",\n",
    "    \"Sander Berge\", \"James Garner\", \"James Ward-Prowse\", \"John McGinn\", \"Douglas Luiz\",\n",
    "    \"Mario Lemina\", \"Rodri\", \"Gustavo Hamer\", \"Ryan Christie\", \"Dwight McNeil\",\n",
    "    \"Tomáš Souček\", \"Moisés Caicedo\", \"Carlton Morris\", \"Phil Foden\", \"Lewis Cook\",\n",
    "    \"Dejan Kulusevski\", \"Sean Longstaff\", \"João Palhinha\", \"Vinicius Souza\", \"João Gomes\",\n",
    "    \"Julián Álvarez\", \"Kai Havertz\", \"Abdoulaye Doucouré\", \"Lucas Paquetá\", \"Ross Barkley\"\n",
    "]\n",
    "\n",
    "# URL of the defensive stats page\n",
    "url = \"https://fbref.com/en/comps/9/2023-2024/defense/2023-2024-Premier-League-Stats\"\n",
    "headers = {\"User-Agent\": \"Mozilla/5.0\"}\n",
    "\n",
    "# Fetch the page\n",
    "resp = requests.get(url, headers=headers)\n",
    "soup = BeautifulSoup(resp.content, \"html.parser\")\n",
    "\n",
    "# FBref hides tables in HTML comments—find them all\n",
    "comments = soup.find_all(string=lambda text: isinstance(text, Comment))\n",
    "\n",
    "# Locate the comment that contains our defense table\n",
    "table_html = None\n",
    "for c in comments:\n",
    "    if \"id=\\\"stats_defense\\\"\" in c:\n",
    "        table_html = c\n",
    "        break\n",
    "\n",
    "if table_html is None:\n",
    "    raise RuntimeError(\"Could not find defense table in page comments\")\n",
    "\n",
    "# Parse that commented-out HTML\n",
    "table_soup = BeautifulSoup(table_html, \"html.parser\")\n",
    "table = table_soup.find(\"table\", id=\"stats_defense\")\n",
    "\n",
    "# Read into pandas (this will create a MultiIndex columns)\n",
    "df = pd.read_html(str(table))[0]\n",
    "\n",
    "# Flatten the MultiIndex column names if present\n",
    "if isinstance(df.columns, pd.MultiIndex):\n",
    "    # take the second level (the actual stat names)\n",
    "    df.columns = df.columns.get_level_values(1)\n",
    "\n",
    "# Now drop any repeated header rows that snuck in as data\n",
    "df = df[df[\"Player\"] != \"Player\"]\n",
    "\n",
    "# Strip whitespace\n",
    "df[\"Player\"] = df[\"Player\"].str.strip()\n",
    "\n",
    "# Filter down to your list\n",
    "df_sel = df[df[\"Player\"].isin(target_players)].copy()\n",
    "\n",
    "# (Optional) reorder rows to match your target list\n",
    "df_sel[\"Player\"] = pd.Categorical(df_sel[\"Player\"], categories=target_players, ordered=True)\n",
    "df_sel.sort_values(\"Player\", inplace=True)\n",
    "\n",
    "# Save to CSV\n",
    "df_sel.to_csv(\"defensive_stats_selected_players.csv\", index=False)\n",
    "print(\"Written defensive_stats_selected_players.csv with\", len(df_sel), \"rows\")\n"
   ]
  }
 ],
 "metadata": {
  "kernelspec": {
   "display_name": "Python (aci)",
   "language": "python",
   "name": "aci"
  },
  "language_info": {
   "codemirror_mode": {
    "name": "ipython",
    "version": 3
   },
   "file_extension": ".py",
   "mimetype": "text/x-python",
   "name": "python",
   "nbconvert_exporter": "python",
   "pygments_lexer": "ipython3",
   "version": "3.11.5"
  }
 },
 "nbformat": 4,
 "nbformat_minor": 5
}
